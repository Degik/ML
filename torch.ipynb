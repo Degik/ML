{
 "cells": [
  {
   "cell_type": "code",
   "execution_count": 1,
   "metadata": {},
   "outputs": [],
   "source": [
    "import torch\n",
    "import numpy as np\n",
    "import pandas as pd\n",
    "import torch.nn as nn\n",
    "import torch.optim as optim\n",
    "import torch.nn.functional as F\n",
    "import matplotlib.pyplot as plt\n",
    "import IPython.display as display\n",
    "\n",
    "class NeuralNetworkLayer(nn.Module):\n",
    "    def __init__(self):\n",
    "        super(NeuralNetworkLayer, self).__init__()\n",
    "\n",
    "        #Layer 1 Input: 17 Output: 3\n",
    "        self.layer1 = nn.Linear(17, 5)\n",
    "        #self.layer1.weight.data.fill_(0.4)\n",
    "        #self.layer1.bias.data.fill_(0.01)\n",
    "        #Layer 3 Input: 3 Output: 1\n",
    "        self.layer2 = nn.Linear(5, 1)\n",
    "        #self.layer2.weight.data.fill_(0.2)\n",
    "        #self.layer2.bias.data.fill_(0.01)\n",
    "\n",
    "    def forward(self, x):\n",
    "        x = self.layer1(x)\n",
    "        x = F.relu(x)\n",
    "        x = self.layer2(x)\n",
    "        return x"
   ]
  },
  {
   "cell_type": "code",
   "execution_count": 2,
   "metadata": {},
   "outputs": [],
   "source": [
    "\n",
    "def importMonkDataset(file_name:str) -> pd.DataFrame:\n",
    "    dataset = None\n",
    "    columns_name = [\"Y\"] + [f\"X{i}\" for i in range(1,7)] + [\"ID\"]\n",
    "    try:\n",
    "        dataset = pd.read_csv(file_name, sep=\" \", names=columns_name)\n",
    "    except Exception as e:\n",
    "        print(\"Error | Parsing target dataset for validation!\")\n",
    "        print(e)\n",
    "    dataset.set_index('ID', inplace=True)\n",
    "    return dataset\n",
    "\n",
    "def takeMonkInputDataset(dataset:pd.DataFrame) -> pd.DataFrame:\n",
    "    return dataset.iloc[:, 1:] #Return dataset without first and last column\n",
    " \n",
    "def takeMonkOutputDataset(dataset:pd.DataFrame) -> pd.DataFrame:\n",
    "    return dataset.iloc[:,[0]] #Return dataset with only first column\n",
    "\n",
    "\n",
    "def convert_x(x_train: np.ndarray):\n",
    "    dict_3 = {1: [1, 0, 0], 2: [0, 1, 0], 3: [0, 0, 1]}\n",
    "    dict_2 = {1: [1, 0], 2: [0, 1]}\n",
    "    dict_4 = {1: [1, 0, 0, 0], 2: [0, 1, 0, 0], 3: [0, 0, 1, 0], 4: [0, 0, 0, 1]}\n",
    "\n",
    "    new_y = []\n",
    "\n",
    "    for row in x_train:\n",
    "        new_row = []\n",
    "        for j, value in enumerate(row):\n",
    "            if j in [0, 1, 3]:\n",
    "                new_row.extend(dict_3.get(value))\n",
    "            elif j in [2, 5]:\n",
    "                new_row.extend(dict_2.get(value))\n",
    "            elif j == 4:\n",
    "                new_row.extend(dict_4.get(value))\n",
    "\n",
    "        new_y.append(new_row)\n",
    "    return new_y"
   ]
  },
  {
   "cell_type": "code",
   "execution_count": 3,
   "metadata": {},
   "outputs": [],
   "source": [
    "dataset_train = importMonkDataset(\"MONK/monks-1.train\")\n",
    "x_train = takeMonkInputDataset(dataset_train)\n",
    "y_train = takeMonkOutputDataset(dataset_train)\n",
    "\n",
    "#Convert data\n",
    "x_train = convert_x(x_train.to_numpy())\n",
    "y_train = y_train.to_numpy()\n",
    "\n",
    "x_train = torch.Tensor(x_train)\n",
    "y_train = torch.Tensor(y_train)\n",
    "\n",
    "#Net\n",
    "net = NeuralNetworkLayer()"
   ]
  },
  {
   "cell_type": "code",
   "execution_count": 4,
   "metadata": {},
   "outputs": [],
   "source": [
    "from torch.utils.data import TensorDataset, DataLoader\n",
    "\n",
    "#Move data to gpu\n",
    "net = net.to(\"cuda:0\")\n",
    "x_train = x_train.to(\"cuda:0\")\n",
    "y_train = y_train.to(\"cuda:0\")\n",
    "\n",
    "#net = net.double()\n",
    "#x_train = x_train.double()\n",
    "#y_train = y_train.double()\n",
    "\n",
    "dataset_train = TensorDataset(x_train, y_train)\n",
    "data_loader = DataLoader(dataset_train, batch_size=10, shuffle=True)"
   ]
  },
  {
   "cell_type": "code",
   "execution_count": 5,
   "metadata": {},
   "outputs": [
    {
     "name": "stdout",
     "output_type": "stream",
     "text": [
      "Parameter containing:\n",
      "tensor([[-0.0776, -0.0704, -0.0284, -0.1729, -0.0498, -0.0028, -0.1353, -0.1390,\n",
      "          0.1027, -0.2390, -0.0143,  0.1883, -0.0052, -0.2138, -0.0293, -0.2110,\n",
      "          0.2195],\n",
      "        [ 0.1382,  0.2424,  0.0724, -0.0778, -0.0734, -0.0433,  0.1016,  0.0256,\n",
      "         -0.1193,  0.2112, -0.1206, -0.1987, -0.2005,  0.1512, -0.0047,  0.0878,\n",
      "          0.0799],\n",
      "        [-0.1739, -0.1761, -0.0429,  0.0624,  0.1914,  0.0559,  0.1949, -0.2293,\n",
      "          0.1978, -0.1820, -0.2281,  0.0398,  0.1475, -0.0574,  0.1804, -0.0915,\n",
      "          0.0210],\n",
      "        [-0.0282, -0.1788, -0.2072,  0.1157,  0.0265, -0.0449,  0.2093, -0.1094,\n",
      "         -0.1725, -0.0296,  0.1559, -0.2231, -0.0240, -0.1089,  0.0231,  0.1680,\n",
      "          0.1988],\n",
      "        [ 0.1406, -0.0108, -0.0702, -0.1268, -0.2392,  0.1122,  0.0980, -0.0616,\n",
      "          0.0839, -0.0104,  0.1196, -0.1881,  0.2118,  0.1733, -0.0658,  0.2213,\n",
      "          0.0411]], device='cuda:0', requires_grad=True)\n",
      "Parameter containing:\n",
      "tensor([ 0.1035, -0.2053,  0.1833, -0.1127, -0.1491], device='cuda:0',\n",
      "       requires_grad=True)\n",
      "Parameter containing:\n",
      "tensor([[ 0.2497,  0.1176, -0.0235, -0.2947, -0.3338]], device='cuda:0',\n",
      "       requires_grad=True)\n",
      "Parameter containing:\n",
      "tensor([-0.2667], device='cuda:0', requires_grad=True)\n"
     ]
    }
   ],
   "source": [
    "criterion = nn.MSELoss()\n",
    "optimizer = optim.SGD(net.parameters(), lr=0.01)\n",
    "for p in net.parameters():\n",
    "    print(p)"
   ]
  },
  {
   "cell_type": "code",
   "execution_count": 6,
   "metadata": {},
   "outputs": [],
   "source": [
    "# activation: tanh, relu\n",
    "# solver: sgd, adam\n",
    "# lr: 0.01, 0.001, 0.05, 0.005\n",
    "# iter: 350, 400\n",
    "# alpha: 0.0001, 0.001, 0.0005, 0.005\n",
    "# layers: 2, 3, 4\n",
    "\n",
    "# parameters = {'activation':('tanh', 'relu'), \n",
    "#               'solver':('sgd', 'adam'), \n",
    "#               'lr':('0.01', '0.001', '0.05', '0.005'), \n",
    "#               'epochs': ('350', '400', '450'),\n",
    "#               'alpha' : ('0.0001', '0.001', '0.0005', '0.005'),\n",
    "#               'layers' : ('2', '3', '4')}\n",
    "\n",
    "parameters = {'lr':('0.01', '0.001', '0.05', '0.005')}"
   ]
  },
  {
   "cell_type": "code",
   "execution_count": 7,
   "metadata": {},
   "outputs": [
    {
     "data": {
      "image/png": "[encoded data removed]",
      "text/plain": [
       "<Figure size 640x480 with 1 Axes>"
      ]
     },
     "metadata": {},
     "output_type": "display_data"
    },
    {
     "name": "stdout",
     "output_type": "stream",
     "text": [
      "Epoch [390/390], Loss: 0.0468\n"
     ]
    }
   ],
   "source": [
    "print(net.parameters())\n",
    "loss_values = []\n",
    "epochs = 390\n",
    "for epoch in range(epochs):\n",
    "    total_loss = 0\n",
    "    for batch_input, batch_output in data_loader:\n",
    "        #Forward pass\n",
    "        outputs = net(batch_input)\n",
    "        #Training loss\n",
    "        loss = criterion(outputs, batch_output)\n",
    "        #Calculate accuracy\n",
    "        \n",
    "        #Outputs convert to binary 0 or 1 with P (Probability)\n",
    "        #outputsConv = (F.sigmoid(outputs) >= 0.5).float()\n",
    "        #_, predicted = torch.max(outputsConv.data, 1)\n",
    "        total_loss += loss.item()\n",
    "        #Backward and optimization\n",
    "        optimizer.zero_grad()\n",
    "        loss.backward()\n",
    "        optimizer.step()\n",
    "\n",
    "\n",
    "    avg_loss = total_loss / len(data_loader)\n",
    "    #Add to list\n",
    "    loss_values.append(avg_loss)\n",
    "\n",
    "    #Update plot\n",
    "    display.clear_output(wait=True)\n",
    "    plt.plot(loss_values, label='Training Loss')\n",
    "    plt.xlabel('Epoch')\n",
    "    plt.ylabel('Loss')\n",
    "    plt.title('Loss per Epoch')\n",
    "    plt.legend()\n",
    "    plt.show()\n",
    "\n",
    "    print(f'Epoch [{epoch+1}/{epochs}], Loss: {avg_loss:.4f}')"
   ]
  },
  {
   "cell_type": "code",
   "execution_count": 8,
   "metadata": {},
   "outputs": [],
   "source": [
    "torch.save(net, 'model390.pth')"
   ]
  },
  {
   "cell_type": "code",
   "execution_count": 9,
   "metadata": {},
   "outputs": [
    {
     "name": "stdout",
     "output_type": "stream",
     "text": [
      "Accuracy: 0.9560\n"
     ]
    }
   ],
   "source": [
    "dataset_test = importMonkDataset(\"MONK/monks-1.test\")\n",
    "\n",
    "x_test = takeMonkInputDataset(dataset_test)\n",
    "y_test = takeMonkOutputDataset(dataset_test)\n",
    "x_test = x_test.to_numpy()\n",
    "\n",
    "x_test = convert_x(x_test)\n",
    "y_test = y_test.to_numpy()\n",
    "\n",
    "x_test = torch.tensor(x_test)\n",
    "y_test = torch.tensor(y_test)\n",
    "\n",
    "x_test = x_test.to(\"cuda:0\")\n",
    "y_test = y_test.to(\"cuda:0\")\n",
    "\n",
    "net = net.double()\n",
    "x_test = x_test.double()\n",
    "y_test = y_test.double()\n",
    "\n",
    "dataset_test = TensorDataset(x_test, y_test)\n",
    "data_loader = DataLoader(dataset_test, batch_size=10, shuffle=True)\n",
    "\n",
    "total = 0\n",
    "correct = 0\n",
    "net.eval()\n",
    "with torch.no_grad():\n",
    "    for batch_input, batch_output in data_loader:\n",
    "        outputs = net(batch_input)\n",
    "        predicted = (outputs > 0.5).float()\n",
    "        total += batch_input.size(0)\n",
    "        correct += (predicted == batch_output).sum().item()\n",
    "\n",
    "accuracy = correct / total\n",
    "print(f'Accuracy: {accuracy:.4f}')\n",
    "    "
   ]
  }
 ],
 "metadata": {
  "kernelspec": {
   "display_name": "tf-gpu",
   "language": "python",
   "name": "python3"
  },
  "language_info": {
   "codemirror_mode": {
    "name": "ipython",
    "version": 3
   },
   "file_extension": ".py",
   "mimetype": "text/x-python",
   "name": "python",
   "nbconvert_exporter": "python",
   "pygments_lexer": "ipython3",
   "version": "3.9.18"
  }
 },
 "nbformat": 4,
 "nbformat_minor": 2
}
